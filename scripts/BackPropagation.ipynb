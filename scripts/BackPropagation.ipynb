{
 "cells": [
  {
   "cell_type": "code",
   "execution_count": 1,
   "metadata": {},
   "outputs": [],
   "source": [
    "import numpy as np\n",
    "\n",
    "\n",
    "from sklearn.decomposition import PCA\n",
    "from sklearn.pipeline import make_pipeline\n",
    "from sklearn.preprocessing import StandardScaler\n",
    "\n",
    "import matplotlib.pyplot as plt #Para graficar\n",
    "from skimage.io import imshow #Para graficar las imagenes\n",
    "import tensorflow as tf\n",
    "\n",
    "\n",
    "import os\n",
    "import glob\n",
    "##from PIL import Image\n",
    "import cv2\n",
    "\n",
    "#import pyheif\n",
    "\n",
    "import matplotlib.pyplot as plt"
   ]
  },
  {
   "cell_type": "code",
   "execution_count": 2,
   "metadata": {},
   "outputs": [],
   "source": [
    "#root_path = \"C:/MaestriaDocs/DMA - Proyecto/caras_grupo4/\"\n",
    "root_path = \"../\"\n",
    "\n",
    "directorio_personas = root_path + \"Caras_cortadas\""
   ]
  },
  {
   "cell_type": "markdown",
   "metadata": {},
   "source": [
    "Obtenemos de las carpetas originales las fotos"
   ]
  },
  {
   "cell_type": "code",
   "execution_count": 3,
   "metadata": {},
   "outputs": [
    {
     "data": {
      "text/plain": [
       "'\\ndef Directorio_perosonas_a_matriz(dir_name_recorte ):\\n    # Tamaño fijo al que redimensionar todas las imágenes\\n    desired_size = (30, 30)\\n  \\n    # Listas para almacenar las imágenes y sus nombres\\n    images = [] #lista de fotos\\n    image_names = []\\n    image_person = [] #lista con los nombres de las personas de cada foto\\n\\n    # Leer las imágenes del directorio y almacenarlas en las listas\\n    images = []\\n    for root, dirs, files in os.walk(dir_name_recorte):\\n        for dir_name in dirs:\\n            print(\"Carpeta:\", dir_name)\\n            dir_path = os.path.join(root, dir_name) #directorio  de la persona\\n\\n            for file_name in os.listdir(dir_path):\\n            \\n                if file_name.lower().endswith((\\'.png\\', \\'.jpg\\', \\'.jpeg\\', \\'.bmp\\')):\\n                    image_path = os.path.join(dir_path, file_name)\\n                    image = cv2.imread(image_path, cv2.IMREAD_GRAYSCALE)  # Leer en escala de grises\\n                if image is not None:\\n                    # Redimensionar la imagen al tamaño deseado\\n                    resized_image = cv2.resize(image, desired_size)\\n        \\n                    images.append(resized_image.flatten())  # Aplanar la imagen y agregarla a la lista\\n                    image_names.append(file_name)\\n                    image_person.append(dir_name)\\n                                   \\n    # Convertir la lista de imágenes a una matriz NumPy\\n    image_matrix = np.array(images) #matriz de fotos    \\n    return image_matrix\\n\\n'"
      ]
     },
     "execution_count": 3,
     "metadata": {},
     "output_type": "execute_result"
    }
   ],
   "source": [
    "\"\"\"\n",
    "def Directorio_perosonas_a_matriz(dir_name_recorte ):\n",
    "    # Tamaño fijo al que redimensionar todas las imágenes\n",
    "    desired_size = (30, 30)\n",
    "  \n",
    "    # Listas para almacenar las imágenes y sus nombres\n",
    "    images = [] #lista de fotos\n",
    "    image_names = []\n",
    "    image_person = [] #lista con los nombres de las personas de cada foto\n",
    "\n",
    "    # Leer las imágenes del directorio y almacenarlas en las listas\n",
    "    images = []\n",
    "    for root, dirs, files in os.walk(dir_name_recorte):\n",
    "        for dir_name in dirs:\n",
    "            print(\"Carpeta:\", dir_name)\n",
    "            dir_path = os.path.join(root, dir_name) #directorio  de la persona\n",
    "\n",
    "            for file_name in os.listdir(dir_path):\n",
    "            \n",
    "                if file_name.lower().endswith(('.png', '.jpg', '.jpeg', '.bmp')):\n",
    "                    image_path = os.path.join(dir_path, file_name)\n",
    "                    image = cv2.imread(image_path, cv2.IMREAD_GRAYSCALE)  # Leer en escala de grises\n",
    "                if image is not None:\n",
    "                    # Redimensionar la imagen al tamaño deseado\n",
    "                    resized_image = cv2.resize(image, desired_size)\n",
    "        \n",
    "                    images.append(resized_image.flatten())  # Aplanar la imagen y agregarla a la lista\n",
    "                    image_names.append(file_name)\n",
    "                    image_person.append(dir_name)\n",
    "                                   \n",
    "    # Convertir la lista de imágenes a una matriz NumPy\n",
    "    image_matrix = np.array(images) #matriz de fotos    \n",
    "    return image_matrix\n",
    "\n",
    "\"\"\""
   ]
  },
  {
   "cell_type": "code",
   "execution_count": 4,
   "metadata": {},
   "outputs": [
    {
     "name": "stdout",
     "output_type": "stream",
     "text": [
      "Carpeta: Abel\n",
      "Carpeta: Carlos\n",
      "Carpeta: Federico G\n"
     ]
    },
    {
     "name": "stdout",
     "output_type": "stream",
     "text": [
      "Carpeta: Federico R\n",
      "Carpeta: Florencia\n",
      "Carpeta: Franco A\n",
      "Carpeta: Franco S\n",
      "Carpeta: Gerard\n",
      "Carpeta: Gustavo\n",
      "Carpeta: Joaquin\n",
      "Carpeta: Juan\n",
      "Carpeta: Lautaro\n",
      "Carpeta: Lisandro\n",
      "Carpeta: Marco\n",
      "Carpeta: Matias\n",
      "Carpeta: Natalia\n",
      "Carpeta: Noelia\n",
      "Carpeta: Paola\n",
      "Carpeta: Victorio\n"
     ]
    }
   ],
   "source": [
    "from PCA_funciones import matriz_fotos_desde_carpeta\n",
    "\n",
    "image_matrix = matriz_fotos_desde_carpeta(directorio_personas)"
   ]
  },
  {
   "cell_type": "code",
   "execution_count": null,
   "metadata": {},
   "outputs": [],
   "source": []
  }
 ],
 "metadata": {
  "kernelspec": {
   "display_name": "Python 3",
   "language": "python",
   "name": "python3"
  },
  "language_info": {
   "codemirror_mode": {
    "name": "ipython",
    "version": 3
   },
   "file_extension": ".py",
   "mimetype": "text/x-python",
   "name": "python",
   "nbconvert_exporter": "python",
   "pygments_lexer": "ipython3",
   "version": "3.12.2"
  }
 },
 "nbformat": 4,
 "nbformat_minor": 2
}
